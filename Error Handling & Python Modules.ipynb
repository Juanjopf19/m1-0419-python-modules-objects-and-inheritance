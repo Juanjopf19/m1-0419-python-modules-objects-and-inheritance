{
 "cells": [
  {
   "cell_type": "code",
   "execution_count": null,
   "metadata": {},
   "outputs": [],
   "source": []
  },
  {
   "cell_type": "code",
   "execution_count": 1,
   "metadata": {},
   "outputs": [
    {
     "name": "stdout",
     "output_type": "stream",
     "text": [
      "Insert a nameasdf\n",
      "Hello asdf\n"
     ]
    }
   ],
   "source": [
    "def sayHello(name):\n",
    "    if isinstance(name, str) and len(name) != 0:\n",
    "        print(\"Hello {}\".format(name))\n",
    "    else:\n",
    "        raise Exception(\"Has llamado mal a la funcion\")\n",
    "        #print(\"Has llamado mal a la funcion\")\n",
    "        \n",
    "def ask():\n",
    "    while True:\n",
    "        m = input(\"Insert a name\")\n",
    "        try:\n",
    "            sayHello(m)\n",
    "            break\n",
    "        except ValueError as e:\n",
    "            print(e)\n",
    "            print(\"No has puesto un nombre\")\n",
    "        except Exception as e:\n",
    "            print(\"INVALID\")\n",
    "\n"
   ]
  },
  {
   "cell_type": "code",
   "execution_count": null,
   "metadata": {},
   "outputs": [],
   "source": []
  },
  {
   "cell_type": "code",
   "execution_count": 1,
   "metadata": {},
   "outputs": [
    {
     "name": "stdout",
     "output_type": "stream",
     "text": [
      "Tu nota es 0.06\n"
     ]
    }
   ],
   "source": [
    "from calculos.notas import calculaNota\n",
    "\n",
    "calculaNota()"
   ]
  },
  {
   "cell_type": "code",
   "execution_count": null,
   "metadata": {},
   "outputs": [],
   "source": []
  }
 ],
 "metadata": {
  "kernelspec": {
   "display_name": "Python 3",
   "language": "python",
   "name": "python3"
  },
  "language_info": {
   "codemirror_mode": {
    "name": "ipython",
    "version": 3
   },
   "file_extension": ".py",
   "mimetype": "text/x-python",
   "name": "python",
   "nbconvert_exporter": "python",
   "pygments_lexer": "ipython3",
   "version": "3.7.2"
  }
 },
 "nbformat": 4,
 "nbformat_minor": 2
}
