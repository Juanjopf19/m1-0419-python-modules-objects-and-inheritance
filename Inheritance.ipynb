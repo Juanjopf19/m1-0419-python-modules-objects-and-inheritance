{
 "cells": [
  {
   "cell_type": "code",
   "execution_count": 28,
   "metadata": {},
   "outputs": [
    {
     "name": "stdout",
     "output_type": "stream",
     "text": [
      "Nada\n",
      "{'name': 'Laika Garcia', 'sonido': '>Wow<'}\n",
      ">Wow<\n",
      "<class '__main__.Animal'> <class '__main__.Perro'>\n"
     ]
    }
   ],
   "source": [
    "# https://www.python-course.eu/python3_inheritance.php\n",
    "\n",
    "class Animal():\n",
    "    def __init__(self, name, sound=\"Nada\"):\n",
    "        self.name = name\n",
    "        self.sonido = sound\n",
    "    \n",
    "    def hazTuSonido(self):\n",
    "        print(self.sonido)\n",
    "        \n",
    "class Perro(Animal):\n",
    "    def __init__(self, name):\n",
    "        super().__init__(name+\" Garcia\", \">Wow<\")\n",
    "        \n",
    "   # def hazTuSonido(self):\n",
    "   #     print(\">WOW<\")\n",
    "    \n",
    "    \n",
    "mono = Animal(\"Copito de nieve\")\n",
    "mono.hazTuSonido()\n",
    "\n",
    "p = Perro(\"Laika\")\n",
    "print(p.__dict__)\n",
    "p.hazTuSonido()\n",
    "\n",
    "print(type(mono),type(p))"
   ]
  },
  {
   "cell_type": "code",
   "execution_count": null,
   "metadata": {},
   "outputs": [],
   "source": [
    "mo"
   ]
  }
 ],
 "metadata": {
  "kernelspec": {
   "display_name": "Python 3",
   "language": "python",
   "name": "python3"
  },
  "language_info": {
   "codemirror_mode": {
    "name": "ipython",
    "version": 3
   },
   "file_extension": ".py",
   "mimetype": "text/x-python",
   "name": "python",
   "nbconvert_exporter": "python",
   "pygments_lexer": "ipython3",
   "version": "3.7.2"
  }
 },
 "nbformat": 4,
 "nbformat_minor": 2
}
