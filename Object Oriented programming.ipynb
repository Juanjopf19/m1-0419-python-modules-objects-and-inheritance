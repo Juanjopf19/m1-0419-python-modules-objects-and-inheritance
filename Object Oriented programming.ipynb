{
 "cells": [
  {
   "cell_type": "code",
   "execution_count": 1,
   "metadata": {},
   "outputs": [],
   "source": [
    "juan = {\n",
    "    \"nombre\": \"Juan\",\n",
    "    \"apellidos\": \"García García\",\n",
    "    \"edad\": 25,\n",
    "    \"notas\": [4,6,8,9,10,10],\n",
    "    \"profesores\":[\n",
    "        {\"nombre\": \"X\"},\n",
    "        {\"nombre\": \"Y\"},\n",
    "    ]\n",
    "}"
   ]
  },
  {
   "cell_type": "code",
   "execution_count": 49,
   "metadata": {},
   "outputs": [
    {
     "name": "stdout",
     "output_type": "stream",
     "text": [
      "La nota es 7.83\n"
     ]
    }
   ],
   "source": [
    "from statistics import mean\n",
    "\n",
    "def calculaMediaAlumno(alu):\n",
    "    return mean(alu[\"notas\"])\n",
    "    \n",
    "nota = calculaMediaAlumno(juan)\n",
    "print(\"La nota es {:.2f}\".format(nota))"
   ]
  },
  {
   "cell_type": "code",
   "execution_count": 50,
   "metadata": {},
   "outputs": [
    {
     "data": {
      "text/plain": [
       "'\\nclass Alumno():\\n    def __init__(self, name, age):\\n        self.name = name\\n        self.edad = age\\n        self.notas = []\\n        \\n\\na = Alumno(\"Jepe\",40)\\nb = Alumno(\"Juan\",30)\\nc = Alumno(\"Default\",18)\\nprint(a,b)\\nprint(a.name, b.name, c.name)\\nprint(a.edad, b.edad, c.edad)\\n\\n'"
      ]
     },
     "execution_count": 50,
     "metadata": {},
     "output_type": "execute_result"
    }
   ],
   "source": [
    "\n",
    "'''\n",
    "class Alumno():\n",
    "    def __init__(self, name, age):\n",
    "        self.name = name\n",
    "        self.edad = age\n",
    "        self.notas = []\n",
    "        \n",
    "\n",
    "a = Alumno(\"Jepe\",40)\n",
    "b = Alumno(\"Juan\",30)\n",
    "c = Alumno(\"Default\",18)\n",
    "print(a,b)\n",
    "print(a.name, b.name, c.name)\n",
    "print(a.edad, b.edad, c.edad)\n",
    "\n",
    "'''\n",
    "\n",
    "\n"
   ]
  },
  {
   "cell_type": "code",
   "execution_count": 65,
   "metadata": {},
   "outputs": [
    {
     "name": "stdout",
     "output_type": "stream",
     "text": [
      "Faltan notas para este alumno\n",
      "La nota de Luis es 10.00\n",
      "La nota de Luis es 7.50\n"
     ]
    }
   ],
   "source": [
    "class Alumno():\n",
    "    def __init__(self, name, age):\n",
    "        self.name = name\n",
    "        self.edad = age\n",
    "        self.notas = []\n",
    "\n",
    "    def __repr__(self):\n",
    "        return \"Este alumno es {}\".format(self.name)\n",
    "        \n",
    "    def addNota(self, nota):\n",
    "        self.notas.append(nota)\n",
    "    \n",
    "    def addNotas(self, lst):\n",
    "        for e in lst:\n",
    "            self.notas.append(e)\n",
    "        \n",
    "    def calculaMedia(self, m=1):\n",
    "        if len(self.notas) >= 1:\n",
    "            nota = mean(self.notas)\n",
    "            print(\"La nota de {} es {:.2f}\".format(self.name, nota*m))\n",
    "        else:\n",
    "            print(\"Faltan notas para este alumno\")\n",
    "        \n",
    "        \n",
    "luis = Alumno(\"Luis\",30)\n",
    "luis.calculaMedia()\n",
    "luis.addNota(10)\n",
    "luis.calculaMedia()\n",
    "luis.addNota(5)\n",
    "luis.calculaMedia()"
   ]
  },
  {
   "cell_type": "code",
   "execution_count": 66,
   "metadata": {},
   "outputs": [
    {
     "name": "stdout",
     "output_type": "stream",
     "text": [
      "La nota de Juan es 9.50\n",
      "La nota de Pepe es 6.25\n",
      "[10, 4, 5, 6]\n",
      "La nota de Pepe es 2.00\n"
     ]
    }
   ],
   "source": [
    "juan = Alumno(\"Juan\",30)\n",
    "juan.addNota(10)\n",
    "juan.addNota(9)\n",
    "juan.calculaMedia()\n",
    "\n",
    "pepe = Alumno(\"Pepe\",30)\n",
    "pepe.addNota(10)\n",
    "pepe.addNotas([4,5,6])\n",
    "pepe.calculaMedia()\n",
    "print(pepe.notas)\n",
    "pepe.notas = [1,2,3]\n",
    "pepe.calculaMedia()"
   ]
  },
  {
   "cell_type": "code",
   "execution_count": 70,
   "metadata": {},
   "outputs": [
    {
     "name": "stdout",
     "output_type": "stream",
     "text": [
      "Este alumno es Pepe\n",
      "{'name': 'Pepe', 'edad': 30, 'notas': [1, 2, 3]}\n"
     ]
    }
   ],
   "source": [
    "print(pepe)\n",
    "print(pepe.__dict__)"
   ]
  },
  {
   "cell_type": "code",
   "execution_count": null,
   "metadata": {},
   "outputs": [],
   "source": []
  }
 ],
 "metadata": {
  "kernelspec": {
   "display_name": "Python 3",
   "language": "python",
   "name": "python3"
  },
  "language_info": {
   "codemirror_mode": {
    "name": "ipython",
    "version": 3
   },
   "file_extension": ".py",
   "mimetype": "text/x-python",
   "name": "python",
   "nbconvert_exporter": "python",
   "pygments_lexer": "ipython3",
   "version": "3.7.2"
  }
 },
 "nbformat": 4,
 "nbformat_minor": 2
}
